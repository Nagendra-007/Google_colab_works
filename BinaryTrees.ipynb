{
  "nbformat": 4,
  "nbformat_minor": 0,
  "metadata": {
    "colab": {
      "provenance": [],
      "authorship_tag": "ABX9TyPfuomzTz6M8r1GPGylPmNx",
      "include_colab_link": true
    },
    "kernelspec": {
      "name": "python3",
      "display_name": "Python 3"
    },
    "language_info": {
      "name": "python"
    }
  },
  "cells": [
    {
      "cell_type": "markdown",
      "metadata": {
        "id": "view-in-github",
        "colab_type": "text"
      },
      "source": [
        "<a href=\"https://colab.research.google.com/github/Nagendra-007/Google_colab_works/blob/main/BinaryTrees.ipynb\" target=\"_parent\"><img src=\"https://colab.research.google.com/assets/colab-badge.svg\" alt=\"Open In Colab\"/></a>"
      ]
    },
    {
      "cell_type": "code",
      "source": [
        "class Node:\n",
        "  def __init__(self,data):\n",
        "    self.value = data\n",
        "    self.left = None\n",
        "    self.right = None"
      ],
      "metadata": {
        "id": "b6DtoJQlRDsV"
      },
      "execution_count": null,
      "outputs": []
    },
    {
      "cell_type": "code",
      "execution_count": null,
      "metadata": {
        "id": "xNvfjImOP6Op"
      },
      "outputs": [],
      "source": [
        "class Tree:\n",
        "  counter = 0\n",
        "  queue = []\n",
        "  def create_node(self,data):\n",
        "    return Node(data)\n",
        "\n",
        "  def insert_node(self,node,data):\n",
        "    if node is None:\n",
        "      return self.create_node(data)\n",
        "\n",
        "\n",
        "    if data < node.value:\n",
        "      node.left = self.insert_node(node.left,data)\n",
        "\n",
        "    if data > node.value:\n",
        "      node.right = self.insert_node(node.right,data)\n",
        "    return node\n",
        "\n",
        "  def Preorder_traversal(self,root):\n",
        "    print(root.value)\n",
        "    if root.left is not None:\n",
        "      self.Preorder_traversal(root.left)\n",
        "    if root.right is not None:\n",
        "      self.Preorder_traversal(root.right)\n",
        "\n",
        "  def Inorder_traversal(self,root):\n",
        "    self.counter +=1\n",
        "    #print('counter',self.counter)\n",
        "    if root.left is not None:\n",
        "      self.Inorder_traversal(root.left)\n",
        "    print(root.value)\n",
        "    if root.right is not None:\n",
        "      self.Inorder_traversal(root.right)\n",
        "    self.counter -=1\n",
        "\n",
        "  def Bfs(self,root):\n",
        "    self.queue.append(root)\n",
        "    while len(self.queue) != 0:\n",
        "      parent = self.queue[0]\n",
        "      if parent.left is not None:\n",
        "        self.queue.append(parent.left)\n",
        "      if parent.right is not None:\n",
        "        self.queue.append(parent.right)\n",
        "      self.queue.remove(parent)\n",
        "      print(parent.value)\n",
        "\n",
        "  def Dfs(self,root):\n",
        "    self.queue.append(root)\n",
        "    while len(self.queue) != 0:\n",
        "      parent = self.queue[-1]\n",
        "      self.queue.pop()\n",
        "      print(parent.value)\n",
        "      if parent.left is not None:\n",
        "        self.queue.append(parent.left)\n",
        "      if parent.right is not None:\n",
        "        self.queue.append(parent.right)\n",
        "\n",
        "\n",
        "\n"
      ]
    },
    {
      "cell_type": "code",
      "source": [
        "tree = Tree()\n",
        "root = tree.create_node(30)"
      ],
      "metadata": {
        "id": "SJ67wxRfW1bH"
      },
      "execution_count": null,
      "outputs": []
    },
    {
      "cell_type": "code",
      "source": [
        "print(root)"
      ],
      "metadata": {
        "colab": {
          "base_uri": "https://localhost:8080/"
        },
        "id": "6rEyJI8jMUv5",
        "outputId": "b3b996f7-0bd0-4dc5-9f9f-dcdc4d79448a"
      },
      "execution_count": null,
      "outputs": [
        {
          "output_type": "stream",
          "name": "stdout",
          "text": [
            "<__main__.Node object at 0x7cca868212a0>\n"
          ]
        }
      ]
    },
    {
      "cell_type": "code",
      "source": [
        "tree.insert_node(root,25)\n"
      ],
      "metadata": {
        "colab": {
          "base_uri": "https://localhost:8080/"
        },
        "id": "ES7neuuxbOEG",
        "outputId": "8d473371-c1bf-4276-a8aa-b702558f0593"
      },
      "execution_count": null,
      "outputs": [
        {
          "output_type": "execute_result",
          "data": {
            "text/plain": [
              "<__main__.Node at 0x7cca868212a0>"
            ]
          },
          "metadata": {},
          "execution_count": 5
        }
      ]
    },
    {
      "cell_type": "code",
      "source": [
        "print(root.value)"
      ],
      "metadata": {
        "colab": {
          "base_uri": "https://localhost:8080/"
        },
        "id": "bbzaReR-YRuj",
        "outputId": "50a320b9-4bb4-49e1-e717-3abb7197934f"
      },
      "execution_count": null,
      "outputs": [
        {
          "output_type": "stream",
          "name": "stdout",
          "text": [
            "30\n"
          ]
        }
      ]
    },
    {
      "cell_type": "code",
      "source": [
        "print(root.left)\n",
        "print(root.right)"
      ],
      "metadata": {
        "colab": {
          "base_uri": "https://localhost:8080/"
        },
        "id": "crcjkolwh4Mg",
        "outputId": "2653102e-ab6f-496c-88a5-f13829285c09"
      },
      "execution_count": null,
      "outputs": [
        {
          "output_type": "stream",
          "name": "stdout",
          "text": [
            "<__main__.Node object at 0x7cca86821450>\n",
            "None\n"
          ]
        }
      ]
    },
    {
      "cell_type": "code",
      "source": [
        "tree.insert_node(root,11)\n",
        "tree.insert_node(root,32)"
      ],
      "metadata": {
        "colab": {
          "base_uri": "https://localhost:8080/"
        },
        "id": "qgxoFICaJwHb",
        "outputId": "b25f1daa-30d0-4ded-8284-5a5ddc306714"
      },
      "execution_count": null,
      "outputs": [
        {
          "output_type": "execute_result",
          "data": {
            "text/plain": [
              "<__main__.Node at 0x7cca868212a0>"
            ]
          },
          "metadata": {},
          "execution_count": 8
        }
      ]
    },
    {
      "cell_type": "code",
      "source": [
        "print(root.left)\n",
        "print(root.right)"
      ],
      "metadata": {
        "colab": {
          "base_uri": "https://localhost:8080/"
        },
        "id": "06HYA7AZJzZV",
        "outputId": "29fa32f6-1d29-4ef8-e5e8-e703f146cd0b"
      },
      "execution_count": null,
      "outputs": [
        {
          "output_type": "stream",
          "name": "stdout",
          "text": [
            "<__main__.Node object at 0x7cca86821450>\n",
            "<__main__.Node object at 0x7cca86821510>\n"
          ]
        }
      ]
    },
    {
      "cell_type": "code",
      "source": [
        "print(root.left.left)"
      ],
      "metadata": {
        "colab": {
          "base_uri": "https://localhost:8080/"
        },
        "id": "iX5bXfqILQ5Q",
        "outputId": "e8229f00-4f98-468c-880a-a60e6d7c11ca"
      },
      "execution_count": null,
      "outputs": [
        {
          "output_type": "stream",
          "name": "stdout",
          "text": [
            "<__main__.Node object at 0x7cca86822320>\n"
          ]
        }
      ]
    },
    {
      "cell_type": "code",
      "source": [
        "tree.insert_node(root,50)\n",
        "tree.insert_node(root,2)\n",
        "tree.insert_node(root,13)\n",
        "tree.insert_node(root,44)\n",
        "tree.insert_node(root,49)\n",
        "tree.insert_node(root,1)\n",
        "tree.insert_node(root,17)"
      ],
      "metadata": {
        "colab": {
          "base_uri": "https://localhost:8080/"
        },
        "id": "w2ZCnNGlXG0C",
        "outputId": "8606612c-a13a-4df1-f520-da7fc6b23cc5"
      },
      "execution_count": null,
      "outputs": [
        {
          "output_type": "execute_result",
          "data": {
            "text/plain": [
              "<__main__.Node at 0x7cca868212a0>"
            ]
          },
          "metadata": {},
          "execution_count": 11
        }
      ]
    },
    {
      "cell_type": "code",
      "source": [
        "print(root.left.value)"
      ],
      "metadata": {
        "colab": {
          "base_uri": "https://localhost:8080/"
        },
        "id": "Oi4FH8E1IK6D",
        "outputId": "f142abe7-6bbe-446e-e43d-1e130b1f92d3"
      },
      "execution_count": null,
      "outputs": [
        {
          "output_type": "stream",
          "name": "stdout",
          "text": [
            "25\n"
          ]
        }
      ]
    },
    {
      "cell_type": "markdown",
      "source": [
        "### Tree Tarversal"
      ],
      "metadata": {
        "id": "-orYNF0SkiF0"
      }
    },
    {
      "cell_type": "markdown",
      "source": [
        "##### 1.Preorder Traversal"
      ],
      "metadata": {
        "id": "vM7U9DwVkzGc"
      }
    },
    {
      "cell_type": "code",
      "source": [
        "tree.Preorder_traversal(root)"
      ],
      "metadata": {
        "colab": {
          "base_uri": "https://localhost:8080/"
        },
        "id": "-BI6_TqiYxds",
        "outputId": "490a3949-d8c8-4050-b3d4-2b3021da23e7"
      },
      "execution_count": null,
      "outputs": [
        {
          "output_type": "stream",
          "name": "stdout",
          "text": [
            "30\n",
            "25\n",
            "11\n",
            "2\n",
            "1\n",
            "13\n",
            "17\n",
            "32\n",
            "50\n",
            "44\n",
            "49\n"
          ]
        }
      ]
    },
    {
      "cell_type": "code",
      "source": [
        "tree.Inorder_traversal(root)"
      ],
      "metadata": {
        "colab": {
          "base_uri": "https://localhost:8080/"
        },
        "id": "Zk8DmOesGC8x",
        "outputId": "34e896ab-e718-45a7-818e-3f722d2e9312"
      },
      "execution_count": null,
      "outputs": [
        {
          "output_type": "stream",
          "name": "stdout",
          "text": [
            "1\n",
            "2\n",
            "11\n",
            "13\n",
            "17\n",
            "25\n",
            "30\n",
            "32\n",
            "44\n",
            "49\n",
            "50\n"
          ]
        }
      ]
    },
    {
      "cell_type": "code",
      "source": [
        "tree.Bfs(root)"
      ],
      "metadata": {
        "colab": {
          "base_uri": "https://localhost:8080/"
        },
        "id": "k63aH3bw1aGY",
        "outputId": "802652c5-754a-41f9-8b71-63a3004fa846"
      },
      "execution_count": null,
      "outputs": [
        {
          "output_type": "stream",
          "name": "stdout",
          "text": [
            "30\n",
            "25\n",
            "32\n",
            "11\n",
            "50\n",
            "2\n",
            "13\n",
            "44\n",
            "1\n",
            "17\n",
            "49\n"
          ]
        }
      ]
    },
    {
      "cell_type": "code",
      "source": [
        "tree.Dfs(root)"
      ],
      "metadata": {
        "colab": {
          "base_uri": "https://localhost:8080/"
        },
        "id": "a1jJVUrzqjp7",
        "outputId": "3c4a27dc-7729-466d-9ffb-9f4333e240fa"
      },
      "execution_count": null,
      "outputs": [
        {
          "output_type": "stream",
          "name": "stdout",
          "text": [
            "30\n",
            "32\n",
            "50\n",
            "44\n",
            "49\n",
            "25\n",
            "11\n",
            "13\n",
            "17\n",
            "2\n",
            "1\n"
          ]
        }
      ]
    },
    {
      "cell_type": "code",
      "source": [],
      "metadata": {
        "id": "9ZmzOqBVqjXe"
      },
      "execution_count": null,
      "outputs": []
    }
  ]
}